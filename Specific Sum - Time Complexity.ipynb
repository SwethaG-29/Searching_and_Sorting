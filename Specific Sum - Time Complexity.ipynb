{
 "cells": [
  {
   "cell_type": "code",
   "execution_count": null,
   "id": "e40fbdd4",
   "metadata": {},
   "outputs": [],
   "source": [
    "Problem - Specific sum\n",
    "\n",
    "Description\n",
    "Lets now raise the bar higher with this problem and drive home how amazing having more than one iterators can be.\n",
    "\n",
    "You will be given a list and an integer k, you have to find two numbers from the list that add up to k\n",
    "\n",
    "\n",
    "\n",
    "Input:\n",
    "\n",
    "Two lines of input, the first line will have a sorted list of integers, the second list will have the number k\n",
    "\n",
    "\n",
    "\n",
    "Output:\n",
    "\n",
    "Two numbers from the list that add up to k\n",
    "\n",
    "\n",
    "Sample input:\n",
    "\n",
    "[1, 3, 5, 6, 10] \n",
    "\n",
    "15\n",
    "\n",
    "Sample output:\n",
    "\n",
    "5 10\n",
    "\n",
    "Sample input:\n",
    "\n",
    "[2, 6, 7, 10, 16, 17, 19]\n",
    "\n",
    "24\n",
    "\n",
    "\n",
    "\n",
    "Sample output:\n",
    "\n",
    "7 17\n",
    "\n",
    "\n"
   ]
  },
  {
   "cell_type": "code",
   "execution_count": 11,
   "id": "7703a507",
   "metadata": {},
   "outputs": [
    {
     "name": "stdout",
     "output_type": "stream",
     "text": [
      "7 17\n"
     ]
    }
   ],
   "source": [
    "### Time complexity - O(n)\n",
    "import ast\n",
    "\n",
    "data = [2, 6, 7 ,10, 16, 17, 19]\n",
    "key = 24\n",
    "\n",
    "l = 0\n",
    "r = len(data) - 1\n",
    "\n",
    "while l < r:\n",
    "    if (data[l] + data[r] == key):\n",
    "        print(data[l],data[r])\n",
    "        break\n",
    "    elif (data[l] + data[r]) < key:\n",
    "        l = l+1\n",
    "    else:\n",
    "        r = r-1\n",
    " "
   ]
  },
  {
   "cell_type": "code",
   "execution_count": 10,
   "id": "cb06f575",
   "metadata": {},
   "outputs": [
    {
     "name": "stdout",
     "output_type": "stream",
     "text": [
      "7 17\n"
     ]
    }
   ],
   "source": [
    "### Time complexity - O(n2)\n",
    "data = [2, 6, 7 ,10, 16, 17, 19]\n",
    "key = 24\n",
    "n = len(data)\n",
    "for i in range(0,n):\n",
    "    for j in range(i+1,n):\n",
    "        if data[i] + data[j] == key:\n",
    "            print(data[i],data[j])"
   ]
  },
  {
   "cell_type": "code",
   "execution_count": null,
   "id": "22122100",
   "metadata": {},
   "outputs": [],
   "source": []
  },
  {
   "cell_type": "code",
   "execution_count": null,
   "id": "e55231e1",
   "metadata": {},
   "outputs": [],
   "source": []
  },
  {
   "cell_type": "code",
   "execution_count": null,
   "id": "86a0e63c",
   "metadata": {},
   "outputs": [],
   "source": []
  },
  {
   "cell_type": "code",
   "execution_count": null,
   "id": "206a5c29",
   "metadata": {},
   "outputs": [],
   "source": []
  },
  {
   "cell_type": "code",
   "execution_count": null,
   "id": "409b96ca",
   "metadata": {},
   "outputs": [],
   "source": []
  }
 ],
 "metadata": {
  "kernelspec": {
   "display_name": "Python 3 (ipykernel)",
   "language": "python",
   "name": "python3"
  },
  "language_info": {
   "codemirror_mode": {
    "name": "ipython",
    "version": 3
   },
   "file_extension": ".py",
   "mimetype": "text/x-python",
   "name": "python",
   "nbconvert_exporter": "python",
   "pygments_lexer": "ipython3",
   "version": "3.11.5"
  }
 },
 "nbformat": 4,
 "nbformat_minor": 5
}
