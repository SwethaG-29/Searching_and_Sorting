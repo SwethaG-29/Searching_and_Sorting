{
 "cells": [
  {
   "cell_type": "markdown",
   "id": "09f5f0eb",
   "metadata": {},
   "source": [
    "## Merging two sorted lists in linear time complexity"
   ]
  },
  {
   "cell_type": "code",
   "execution_count": 10,
   "id": "b8f94dd0",
   "metadata": {},
   "outputs": [
    {
     "name": "stdout",
     "output_type": "stream",
     "text": [
      "[1, 2, 3, 4, 5, 6, 7]\n"
     ]
    }
   ],
   "source": [
    "l1 = [1,3,5,9]\n",
    "l2 = [2,4,6,7]\n",
    "i = 0\n",
    "j = 0\n",
    "c = []\n",
    "while i < len(l1) and j < len(l2):\n",
    "    \n",
    "    if l1[i] < l2[j]:\n",
    "        c.append(l1[i])\n",
    "        i+=1\n",
    "    else:\n",
    "        c.append(l2[j])\n",
    "        j+=1\n",
    "print(c)\n",
    "    "
   ]
  },
  {
   "cell_type": "code",
   "execution_count": 5,
   "id": "fa39734c",
   "metadata": {},
   "outputs": [
    {
     "name": "stdout",
     "output_type": "stream",
     "text": [
      "1, 3, 5, 7, 9, 10\n",
      "2, 3, 4, 5, 6, 8, 11, 12, 13\n",
      "[1, 2, 3, 3, 4, 5, 5, 6, 7, 8, 9, 10, 11, 12, 13]\n"
     ]
    }
   ],
   "source": [
    "#take input on your own\n",
    "import ast \n",
    "l1 = list(ast.literal_eval(input()))\n",
    "l2 = list(ast.literal_eval(input()))\n",
    "i = 0\n",
    "j = 0\n",
    "c = []\n",
    "#write code to find merged list\n",
    "\n",
    "while i < len(l1) and j < len(l2):\n",
    "    if l1[i] < l2[j]:\n",
    "        c.append(l1[i])\n",
    "        i+=1\n",
    "    else:\n",
    "        c.append(l2[j])\n",
    "        j+=1\n",
    "\n",
    "c = c + l1[i:] + l2[j:]      \n",
    "print(c)\n",
    "    "
   ]
  },
  {
   "cell_type": "code",
   "execution_count": null,
   "id": "3fb375a2",
   "metadata": {},
   "outputs": [],
   "source": []
  },
  {
   "cell_type": "code",
   "execution_count": null,
   "id": "4657d7ce",
   "metadata": {},
   "outputs": [],
   "source": []
  }
 ],
 "metadata": {
  "kernelspec": {
   "display_name": "Python 3 (ipykernel)",
   "language": "python",
   "name": "python3"
  },
  "language_info": {
   "codemirror_mode": {
    "name": "ipython",
    "version": 3
   },
   "file_extension": ".py",
   "mimetype": "text/x-python",
   "name": "python",
   "nbconvert_exporter": "python",
   "pygments_lexer": "ipython3",
   "version": "3.11.5"
  }
 },
 "nbformat": 4,
 "nbformat_minor": 5
}
