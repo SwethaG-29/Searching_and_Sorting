{
 "cells": [
  {
   "cell_type": "markdown",
   "id": "6736a4d8",
   "metadata": {},
   "source": [
    "Diff K\n",
    "Description\n",
    "You have done the specific sum problem. Now it's time for a similar albeit slightly modified version of the same - Diff K. \n",
    "\n",
    "Given a list 'L' of sorted integers and another non-negative integer k, find if there exist 2 indices i and j such that L[i] - L[j] = k, i != j.\n",
    "\n",
    "Format:\n",
    "Input: A single sorted list in the first line and the non-negative integer 'k' in the second line.\n",
    "Output: 'Yes' if there exist two such indices otherwise, 'No'.\n",
    "\n",
    "Examples:\n",
    "Input 1:\n",
    "[1, 3, 5, 6, 10]\n",
    "4\n",
    "Output 1:\n",
    "Yes\n",
    "\n",
    "Input 2:\n",
    "[1, 3, 5, 6, 10]\n",
    "8\n",
    "Output 2:\n",
    "No"
   ]
  },
  {
   "cell_type": "code",
   "execution_count": 3,
   "id": "eee7db9b",
   "metadata": {},
   "outputs": [
    {
     "name": "stdout",
     "output_type": "stream",
     "text": [
      "1, 3, 5, 6, 10\n",
      "4\n",
      "Yes\n"
     ]
    }
   ],
   "source": [
    "# Reading the input\n",
    "import ast \n",
    "L = ast.literal_eval(input())\n",
    "k = int(input())\n",
    "\n",
    "# Initialise a left and right pointer. And a flag variable\n",
    "left = 0\n",
    "right = 1\n",
    "flag = False\n",
    "\n",
    "# While either of the pointers do not reach the end of the array, run a while loop\n",
    "while left < len(L) and right < len(L):\n",
    "# If the condition given in the question is satisfied, set the flag to True and\n",
    "# break the loop\n",
    "    if left != right and L[right]-L[left] == k:\n",
    "        flag = True\n",
    "        break\n",
    "# Else, increment the right pointer if the following condition satisfies\n",
    "    elif L[right] - L[left] < k:\n",
    "        right += 1\n",
    "# Else increment the left pointer by 1    \n",
    "    else:\n",
    "        left += 1\n",
    "\n",
    "# If the flag is True, print 'Yes' else 'No'        \n",
    "if flag:\n",
    "    print('Yes')\n",
    "else:\n",
    "    print('No')"
   ]
  },
  {
   "cell_type": "code",
   "execution_count": 2,
   "id": "25de3bd6",
   "metadata": {},
   "outputs": [
    {
     "name": "stdout",
     "output_type": "stream",
     "text": [
      "No\n"
     ]
    }
   ],
   "source": [
    "def func():\n",
    "    arr = [1, 3, 5, 6, 10]\n",
    "    k = 8\n",
    "    l= 0\n",
    "    r= 0\n",
    "    n = len (arr)\n",
    "    cnt = 0\n",
    "    for i in range(0,n):\n",
    "        if abs(arr[l] - arr[r]) == k:\n",
    "            cnt = 1\n",
    "            break\n",
    "        elif abs(arr[l] - arr[r]) < k:\n",
    "            l = l +1\n",
    "        else:\n",
    "            r = r + 1\n",
    "    if cnt == 0:\n",
    "        print(\"No\")\n",
    "    else:\n",
    "        print(\"Yes\")\n",
    "    \n",
    "func()"
   ]
  },
  {
   "cell_type": "code",
   "execution_count": null,
   "id": "74fcaf1b",
   "metadata": {},
   "outputs": [],
   "source": []
  },
  {
   "cell_type": "code",
   "execution_count": null,
   "id": "703ea40f",
   "metadata": {},
   "outputs": [],
   "source": []
  },
  {
   "cell_type": "code",
   "execution_count": null,
   "id": "714a7fad",
   "metadata": {},
   "outputs": [],
   "source": []
  }
 ],
 "metadata": {
  "kernelspec": {
   "display_name": "Python 3 (ipykernel)",
   "language": "python",
   "name": "python3"
  },
  "language_info": {
   "codemirror_mode": {
    "name": "ipython",
    "version": 3
   },
   "file_extension": ".py",
   "mimetype": "text/x-python",
   "name": "python",
   "nbconvert_exporter": "python",
   "pygments_lexer": "ipython3",
   "version": "3.11.5"
  }
 },
 "nbformat": 4,
 "nbformat_minor": 5
}
