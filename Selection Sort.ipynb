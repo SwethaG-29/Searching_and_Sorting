{
 "cells": [
  {
   "cell_type": "code",
   "execution_count": 4,
   "id": "b465c888",
   "metadata": {},
   "outputs": [
    {
     "name": "stdout",
     "output_type": "stream",
     "text": [
      "[4, 3, 2, 1]\n",
      "[4, 3, 2, 1]\n",
      "[4, 3, 2, 1]\n",
      "[1, 3, 2, 4]\n",
      "[1, 3, 2, 4]\n",
      "[1, 2, 3, 4]\n"
     ]
    },
    {
     "data": {
      "text/plain": [
       "[1, 2, 3, 4]"
      ]
     },
     "execution_count": 4,
     "metadata": {},
     "output_type": "execute_result"
    }
   ],
   "source": [
    "def SelectionSort_func():\n",
    "    l = [4,3,2,1]\n",
    "    n = len(l)\n",
    "    for i in range(n):\n",
    "        min_index = i\n",
    "        for j in range(i+1, n):\n",
    "            if l[j] < l[min_index]:\n",
    "                min_index = j\n",
    "            print(l)\n",
    "        if min_index != i:\n",
    "            l[min_index], l[i] = l[i],l[min_index]\n",
    "            \n",
    "    return l\n",
    "\n",
    "SelectionSort_func()"
   ]
  },
  {
   "cell_type": "code",
   "execution_count": 79,
   "id": "0f050355",
   "metadata": {},
   "outputs": [
    {
     "data": {
      "text/plain": [
       "[-5, -2, -1, -1, 0, 9]"
      ]
     },
     "execution_count": 79,
     "metadata": {},
     "output_type": "execute_result"
    }
   ],
   "source": [
    "def SelectionSort_addition():\n",
    "    l = [0, -1, -2, -1, -5, 9]\n",
    "    n = len(l)\n",
    "    for i in range(n-2):\n",
    "        min_index = i\n",
    "        for j in range(i+1,n):\n",
    "            if l[j] < l[min_index]:\n",
    "                min_index = j\n",
    "        if min_index !=i:\n",
    "            l[min_index], l[i] = l[i], l[min_index]\n",
    "    return l\n",
    "\n",
    "SelectionSort_addition()            \n",
    "                \n",
    "            \n",
    "        "
   ]
  },
  {
   "cell_type": "code",
   "execution_count": 83,
   "id": "51c18f26",
   "metadata": {},
   "outputs": [
    {
     "name": "stdout",
     "output_type": "stream",
     "text": [
      "4,3,2,1\n",
      "[1, 2, 3, 4]\n"
     ]
    }
   ],
   "source": [
    "import ast\n",
    "#Input has been taken for you\n",
    "l=list(ast.literal_eval(input()))\n",
    "\n",
    "#write your logic here\n",
    "n = len(l)\n",
    "for i in range(0,n-2):\n",
    "    min_index = i\n",
    "    for j in range(i+1, n):\n",
    "        if l[j] < l[min_index]:\n",
    "            min_index = j \n",
    "    \n",
    "    if min_index != i:\n",
    "        l[min_index], l[i] = l[i], l[min_index]\n",
    "print(l)\n",
    "        "
   ]
  },
  {
   "cell_type": "code",
   "execution_count": 87,
   "id": "e8817f16",
   "metadata": {},
   "outputs": [
    {
     "name": "stdout",
     "output_type": "stream",
     "text": [
      "[11, 14, 20, 25, 34, 64, 85]\n"
     ]
    }
   ],
   "source": []
  }
 ],
 "metadata": {
  "kernelspec": {
   "display_name": "Python 3 (ipykernel)",
   "language": "python",
   "name": "python3"
  },
  "language_info": {
   "codemirror_mode": {
    "name": "ipython",
    "version": 3
   },
   "file_extension": ".py",
   "mimetype": "text/x-python",
   "name": "python",
   "nbconvert_exporter": "python",
   "pygments_lexer": "ipython3",
   "version": "3.11.5"
  }
 },
 "nbformat": 4,
 "nbformat_minor": 5
}
