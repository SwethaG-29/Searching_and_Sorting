{
 "cells": [
  {
   "cell_type": "code",
   "execution_count": 2,
   "id": "536822d8",
   "metadata": {},
   "outputs": [
    {
     "data": {
      "text/plain": [
       "10"
      ]
     },
     "execution_count": 2,
     "metadata": {},
     "output_type": "execute_result"
    }
   ],
   "source": [
    "def mystery_function(x,y):\n",
    "    if y<=0:\n",
    "        return x\n",
    "    else: \n",
    "        return mystery_function(x,y-x)\n",
    "mystery_function(10,4)"
   ]
  },
  {
   "cell_type": "code",
   "execution_count": null,
   "id": "d18cef22",
   "metadata": {},
   "outputs": [],
   "source": [
    "def pattern(n, res=[]):\n",
    "    k = 5\n",
    "    res.extend([n])\n",
    "    \n",
    "    if n != 0 and 0 < n:\n",
    "        pattern(n - k, res)\n",
    "        \n",
    "\n",
    "    res = res + res[::-1]\n",
    "\n",
    "    return res  # add this to return the result list\n",
    "    \n",
    "pattern(12)"
   ]
  }
 ],
 "metadata": {
  "kernelspec": {
   "display_name": "Python 3 (ipykernel)",
   "language": "python",
   "name": "python3"
  },
  "language_info": {
   "codemirror_mode": {
    "name": "ipython",
    "version": 3
   },
   "file_extension": ".py",
   "mimetype": "text/x-python",
   "name": "python",
   "nbconvert_exporter": "python",
   "pygments_lexer": "ipython3",
   "version": "3.11.5"
  }
 },
 "nbformat": 4,
 "nbformat_minor": 5
}
