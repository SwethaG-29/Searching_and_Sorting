{
 "cells": [
  {
   "cell_type": "code",
   "execution_count": null,
   "id": "4365e28e",
   "metadata": {},
   "outputs": [],
   "source": [
    "def insertion_sort():\n",
    "    arr = [64,34,25,11,20,14,85]\n",
    "    for i in range(1, len(arr)):\n",
    "        j = i \n",
    "        while arr[j-1] > arr[j] and j >0:\n",
    "            arr[j-1],arr[j] = arr[j], arr[j-1]\n",
    "            j-=1\n",
    "    \n",
    "    print(arr)  \n",
    "insertion_sort()\n",
    "         \n",
    "            "
   ]
  },
  {
   "cell_type": "code",
   "execution_count": null,
   "id": "b0e5476e",
   "metadata": {},
   "outputs": [],
   "source": [
    "def insertion_sort(l):\n",
    "    for i in range(1, len(arr))"
   ]
  }
 ],
 "metadata": {
  "kernelspec": {
   "display_name": "Python 3 (ipykernel)",
   "language": "python",
   "name": "python3"
  },
  "language_info": {
   "codemirror_mode": {
    "name": "ipython",
    "version": 3
   },
   "file_extension": ".py",
   "mimetype": "text/x-python",
   "name": "python",
   "nbconvert_exporter": "python",
   "pygments_lexer": "ipython3",
   "version": "3.11.5"
  }
 },
 "nbformat": 4,
 "nbformat_minor": 5
}
