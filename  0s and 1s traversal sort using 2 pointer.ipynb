    "1. Initialise two variables 'i' and 'j' to 0, indicating that they are pointing at the first element of the vector.\n",
