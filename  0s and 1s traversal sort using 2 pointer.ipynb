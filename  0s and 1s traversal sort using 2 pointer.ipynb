{
 "cells": [
  {
   "cell_type": "markdown",
   "id": "732e6780",
   "metadata": {},
   "source": [
    "1. Initialise two variables 'i' and 'j' to 0, indicating that they are pointing at the first element of the vector.\n",
    "2. Here, 'i' will be used to travel through the list and 'j' will be pointing to the first occurrence of 1 in the list.\n",
    "3. Run a loop from 0 to (len(list)-1) using the variable i.\n",
    "4. If the current element, i.e., list[i] is 0, swap list[i] and list[j] and increment the value of ‘j’ by 1 and also 'i' by 1.\n",
    "5. If the list[i] is 1, increment only 'i' by 1."
   ]
  },
  {
   "cell_type": "code",
   "execution_count": 9,
   "id": "9efbb2b7",
   "metadata": {},
   "outputs": [
    {
     "name": "stdout",
     "output_type": "stream",
     "text": [
      "[0, 0, 0, 0, 0, 0, 0, 1, 1, 1, 1, 1, 1, 1]\n"
     ]
    }
   ],
   "source": [
    "# Program to sort a list of 0s and 1s in one traversal of the list\n",
    "\n",
    "# Given list of 0s and 1s\n",
    "v = [0, 0, 1, 1, 1, 1, 0, 1, 0, 0, 0, 1, 1, 0]\n",
    "n = len(v)\n",
    "# Initialise two variables 'i' and 'j' to 1, indicating that they are currently pointing at the \n",
    "# first element in the list.\n",
    "i = 0\n",
    "j = 0\n",
    "\n",
    "# Run a loop from 1 to the length of the list, with the variable 'i'\n",
    "for i in range(n):\n",
    "  \n",
    "# If you encounter a zero, swap the values between v[i] & v[j] and increment 'j' as well. 'i'\n",
    "# anyway gets incremented with every iteration of the loop. Think about it. This way, 'j' will\n",
    "# always point at the first '1' that hasn't been sorted. Swapping the value of v[i]\n",
    "# and v[j] will help replace the 1s with 0s that come after it. If v[j] is pointing at zero,\n",
    "# swapping won't matter anyway.\n",
    "    if(v[i] == 0):\n",
    "        temp = v[j]\n",
    "        v[j] = v[i]\n",
    "        v[i] = temp\n",
    "        j = j + 1\n",
    "\n",
    "# Print the sorted list\n",
    "print(v)"
   ]
  },
  {
   "cell_type": "code",
   "execution_count": null,
   "id": "58aa8649",
   "metadata": {},
   "outputs": [],
   "source": []
  },
  {
   "cell_type": "code",
   "execution_count": null,
   "id": "2379d881",
   "metadata": {},
   "outputs": [],
   "source": []
  }
 ],
 "metadata": {
  "kernelspec": {
   "display_name": "Python 3 (ipykernel)",
   "language": "python",
   "name": "python3"
  },
  "language_info": {
   "codemirror_mode": {
    "name": "ipython",
    "version": 3
   },
   "file_extension": ".py",
   "mimetype": "text/x-python",
   "name": "python",
   "nbconvert_exporter": "python",
   "pygments_lexer": "ipython3",
   "version": "3.11.5"
  }
 },
 "nbformat": 4,
 "nbformat_minor": 5
}
