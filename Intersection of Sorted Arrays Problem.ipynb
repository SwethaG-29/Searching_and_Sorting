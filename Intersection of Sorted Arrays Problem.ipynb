{
 "cells": [
  {
   "cell_type": "markdown",
   "id": "7e991087",
   "metadata": {},
   "source": [
    "Intersection of Sorted Arrays\n",
    "Description\n",
    "Find the intersection of two sorted lists, i.e., find the elements that occur in both.\n",
    "\n",
    "Format:\n",
    "Input: 2 sorted lists\n",
    "Output: A single sorted list that contains the elements present in both the arrays.\n",
    "\n",
    "Examples:\n",
    "Input 1:\n",
    "[1, 2, 3, 5, 9]\n",
    "[3, 6, 9, 12]\n",
    "Output 1:\n",
    "[3, 9]\n",
    "\n",
    "Input 2:\n",
    "[1, 1, 2, 4, 8, 8, 8, 9]\n",
    "[1, 2, 6, 7, 8, 8, 8]\n",
    "Output 2:\n",
    "[1, 2, 8, 8, 8]\n"
   ]
  },
  {
   "cell_type": "code",
   "execution_count": 13,
   "id": "4f7af1df",
   "metadata": {},
   "outputs": [
    {
     "name": "stdout",
     "output_type": "stream",
     "text": [
      "8\n",
      "[1, 2, 8, 8, 8]\n"
     ]
    }
   ],
   "source": [
    "a = [1, 1, 2, 4, 8, 8, 8, 9]\n",
    "b = [1, 2, 6, 7, 8, 8, 8]\n",
    "i=0\n",
    "j=0\n",
    "c = []\n",
    "if (len(a)) > (len(b)):\n",
    "    n = len(a)\n",
    "else:\n",
    "    n = len(b)\n",
    "print(n)   \n",
    "while i < len(a) and j < len(b):\n",
    "    if a[i] == b[j]:\n",
    "        c.append(a[i])\n",
    "        j = j+1\n",
    "        i = i +1\n",
    "    elif a[i] > b[j]: \n",
    "        j = j+1\n",
    "    else:\n",
    "        i = i +1\n",
    "print(c)"
   ]
  },
  {
   "cell_type": "code",
   "execution_count": 6,
   "id": "985d2edc",
   "metadata": {},
   "outputs": [
    {
     "data": {
      "text/plain": [
       "5"
      ]
     },
     "execution_count": 6,
     "metadata": {},
     "output_type": "execute_result"
    }
   ],
   "source": [
    "len(a)"
   ]
  },
  {
   "cell_type": "code",
   "execution_count": 15,
   "id": "61ffb7de",
   "metadata": {},
   "outputs": [
    {
     "ename": "SyntaxError",
     "evalue": "invalid syntax (3521374144.py, line 1)",
     "output_type": "error",
     "traceback": [
      "\u001b[0;36m  Cell \u001b[0;32mIn[15], line 1\u001b[0;36m\u001b[0m\n\u001b[0;31m    [1:2]\u001b[0m\n\u001b[0m      ^\u001b[0m\n\u001b[0;31mSyntaxError\u001b[0m\u001b[0;31m:\u001b[0m invalid syntax\n"
     ]
    }
   ],
   "source": [
    "[1:2]"
   ]
  }
 ],
 "metadata": {
  "kernelspec": {
   "display_name": "Python 3 (ipykernel)",
   "language": "python",
   "name": "python3"
  },
  "language_info": {
   "codemirror_mode": {
    "name": "ipython",
    "version": 3
   },
   "file_extension": ".py",
   "mimetype": "text/x-python",
   "name": "python",
   "nbconvert_exporter": "python",
   "pygments_lexer": "ipython3",
   "version": "3.11.5"
  }
 },
 "nbformat": 4,
 "nbformat_minor": 5
}
