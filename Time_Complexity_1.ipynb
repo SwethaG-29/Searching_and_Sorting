{
 "cells": [
  {
   "cell_type": "code",
   "execution_count": 3,
   "id": "8ca35905",
   "metadata": {},
   "outputs": [],
   "source": [
    "def sss(n):\n",
    "    i = 1\n",
    "    while i < n: \n",
    "        i = i*10\n",
    "        print(i)"
   ]
  },
  {
   "cell_type": "code",
   "execution_count": 4,
   "id": "3f59531a",
   "metadata": {},
   "outputs": [
    {
     "name": "stdout",
     "output_type": "stream",
     "text": [
      "10\n"
     ]
    }
   ],
   "source": [
    "sss(10)"
   ]
  },
  {
   "cell_type": "code",
   "execution_count": 16,
   "id": "573f06b5",
   "metadata": {},
   "outputs": [],
   "source": [
    "def my_function(n):\n",
    "    for i in range(n):\n",
    "        j = 1\n",
    "        while(j <= n):\n",
    "            j = j + 1\n",
    "        print(j)"
   ]
  },
  {
   "cell_type": "code",
   "execution_count": 17,
   "id": "31b46e24",
   "metadata": {
    "collapsed": true
   },
   "outputs": [
    {
     "name": "stdout",
     "output_type": "stream",
     "text": [
      "6\n",
      "6\n",
      "6\n",
      "6\n",
      "6\n"
     ]
    }
   ],
   "source": [
    "my_function(5)"
   ]
  },
  {
   "cell_type": "code",
   "execution_count": 32,
   "id": "ecba9954",
   "metadata": {},
   "outputs": [],
   "source": [
    "import sys\n",
    "sys.setrecursionlimit(140)"
   ]
  },
  {
   "cell_type": "code",
   "execution_count": 138,
   "id": "56298618",
   "metadata": {},
   "outputs": [],
   "source": [
    "def pattern(n):\n",
    "    k = 2\n",
    "    res = []\n",
    "    \n",
    "    if n!=0:\n",
    "        n = pattern(n-k)\n",
    "        \n",
    "\n",
    "        \n",
    "        \n",
    "pattern(10)    "
   ]
  },
  {
   "cell_type": "code",
   "execution_count": null,
   "id": "34ab9711",
   "metadata": {},
   "outputs": [],
   "source": []
  },
  {
   "cell_type": "code",
   "execution_count": 178,
   "id": "0e459b2f",
   "metadata": {},
   "outputs": [
    {
     "data": {
      "text/plain": [
       "[12, 7, 2, -3, -3, 2, 7, 12]"
      ]
     },
     "execution_count": 178,
     "metadata": {},
     "output_type": "execute_result"
    }
   ],
   "source": [
    "def pattern(n, res=[]):\n",
    "    k = 5\n",
    "    res.extend([n])\n",
    "    \n",
    "    if n != 0 and 0 < n:\n",
    "        pattern(n - k, res)\n",
    "        \n",
    "\n",
    "    res = res + res[::-1]\n",
    "\n",
    "    return res  # add this to return the result list\n",
    "    \n",
    "pattern(12)\n"
   ]
  },
  {
   "cell_type": "code",
   "execution_count": 182,
   "id": "500726b9",
   "metadata": {},
   "outputs": [
    {
     "name": "stdout",
     "output_type": "stream",
     "text": [
      "12\n",
      "2\n",
      "12, 10, 8, 6, 4, 2, 0, 2, 4, 6, 8, 10, 12\n"
     ]
    }
   ],
   "source": [
    "# Reading the input\n",
    "n = int(input())\n",
    "k = int(input())\n",
    "\n",
    "# Define the function\n",
    "def pattern(n, m, k):\n",
    "    \n",
    "    # Base case. If m <= 0, print m and return from the function\n",
    "    if m <= 0:\n",
    "        print(m, end = \", \")\n",
    "        return\n",
    "    \n",
    "    # Print m, call the recursive function with (n, m-k, k), and then print m again\n",
    "    print(m, end = \", \")\n",
    "    pattern(n, m-k, k)\n",
    "    # This conditional statement has been used so that you do not print a comma \n",
    "    # after the last element.\n",
    "    if(n != m):\n",
    "        print(m, end = \", \")\n",
    "    else:\n",
    "        print(m)\n",
    "\n",
    "# Declaring another variable m equal to n\n",
    "m = n\n",
    "\n",
    "# Calling the function with 3 arguments - n, m, and k. The extra m will be used\n",
    "# for recursive calls. The n will be preserved because if you check the output\n",
    "# format, you will see that after the last element, you shouldn't print a comma.\n",
    "# The value of 'n' in the function will be used primarily for that.\n",
    "pattern(n, m, k)"
   ]
  },
  {
   "cell_type": "code",
   "execution_count": 186,
   "id": "6b27998d",
   "metadata": {},
   "outputs": [
    {
     "data": {
      "text/plain": [
       "'raecar'"
      ]
     },
     "execution_count": 186,
     "metadata": {},
     "output_type": "execute_result"
    }
   ],
   "source": [
    "def mystery(string):\n",
    "    if len(string)==1:\n",
    "        return string\n",
    "    return string[-1]+mystery(string[:-1])\n",
    "\n",
    "mystery('racear')"
   ]
  },
  {
   "cell_type": "code",
   "execution_count": 187,
   "id": "c003e07f",
   "metadata": {},
   "outputs": [
    {
     "name": "stdout",
     "output_type": "stream",
     "text": [
      "aa\n",
      "ab\n",
      "ba\n",
      "bb\n"
     ]
    }
   ],
   "source": [
    "def magic_print(values,string,k):\n",
    "    if k==0:\n",
    "        print(string)\n",
    "        return\n",
    "    for i in values:\n",
    "        magic_print(values,string+i,k-1)\n",
    "\n",
    "values= 'ab'\n",
    "count = 2\n",
    "magic_print(values,\"\",count)"
   ]
  },
  {
   "cell_type": "code",
   "execution_count": 193,
   "id": "46204dc3",
   "metadata": {},
   "outputs": [
    {
     "data": {
      "text/plain": [
       "'o'"
      ]
     },
     "execution_count": 193,
     "metadata": {},
     "output_type": "execute_result"
    }
   ],
   "source": [
    "def first_vowel(word):\n",
    "    for letter in word:\n",
    "        if letter.lower() in 'aeiou':\n",
    "            return letter\n",
    "\n",
    "first_vowel(\"Strong\")"
   ]
  },
  {
   "cell_type": "code",
   "execution_count": 200,
   "id": "6b842021",
   "metadata": {},
   "outputs": [
    {
     "name": "stdout",
     "output_type": "stream",
     "text": [
      "1\n",
      "3\n",
      "5\n",
      "7\n",
      "9\n"
     ]
    }
   ],
   "source": [
    "for i in range(1,10,2):\n",
    "    print(i)   "
   ]
  },
  {
   "cell_type": "code",
   "execution_count": 205,
   "id": "126bbdde",
   "metadata": {},
   "outputs": [
    {
     "name": "stdout",
     "output_type": "stream",
     "text": [
      "30\n"
     ]
    }
   ],
   "source": [
    "i=10\n",
    "while i<n:\n",
    "    i = i*3\n",
    "    print(i)\n"
   ]
  },
  {
   "cell_type": "code",
   "execution_count": 207,
   "id": "ccb1518d",
   "metadata": {},
   "outputs": [
    {
     "name": "stdout",
     "output_type": "stream",
     "text": [
      "148 ns ± 2.63 ns per loop (mean ± std. dev. of 7 runs, 10,000,000 loops each)\n"
     ]
    }
   ],
   "source": [
    "def word_count(sentence):\n",
    "    return(len(sentence.split(' ')))\n",
    "\n",
    "%timeit word_count(\"I learnt a lot from this module\")"
   ]
  },
  {
   "cell_type": "code",
   "execution_count": 211,
   "id": "ce06ae23",
   "metadata": {},
   "outputs": [
    {
     "data": {
      "text/plain": [
       "5"
      ]
     },
     "execution_count": 211,
     "metadata": {},
     "output_type": "execute_result"
    }
   ],
   "source": [
    "def magic_function( n ):\n",
    "    if n == 0:\n",
    "        return 0\n",
    "    return (n % 10 + magic_function(int(n / 10)))\n",
    "\n",
    "magic_function(221)"
   ]
  }
 ],
 "metadata": {
  "kernelspec": {
   "display_name": "Python 3 (ipykernel)",
   "language": "python",
   "name": "python3"
  },
  "language_info": {
   "codemirror_mode": {
    "name": "ipython",
    "version": 3
   },
   "file_extension": ".py",
   "mimetype": "text/x-python",
   "name": "python",
   "nbconvert_exporter": "python",
   "pygments_lexer": "ipython3",
   "version": "3.11.5"
  }
 },
 "nbformat": 4,
 "nbformat_minor": 5
}
